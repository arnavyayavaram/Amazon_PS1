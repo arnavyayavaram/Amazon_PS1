{
 "cells": [
  {
   "cell_type": "code",
   "execution_count": 1,
   "metadata": {},
   "outputs": [],
   "source": [
    "import csv"
   ]
  },
  {
   "cell_type": "code",
   "execution_count": 2,
   "metadata": {},
   "outputs": [],
   "source": [
    "f1 = open('test_merged.csv', 'w', newline='')\n",
    "f2 = open('test_data.csv', 'r')\n",
    "f3 = open('falcon_testing.csv', 'r')\n",
    "csvw = csv.writer(f1)\n",
    "csvr1 = csv.reader(f2)\n",
    "csvr2 = csv.reader(f3)\n",
    "csvw.writerow(['ID', 'Title', 'Brand', 'Model'])\n",
    "lines1 = list(csvr1)[1:]\n",
    "lines2 = list(csvr2)[1:]\n",
    "csvw.writerows(lines1)\n",
    "csvw.writerows(lines2)"
   ]
  }
 ],
 "metadata": {
  "kernelspec": {
   "display_name": "Python 3",
   "language": "python",
   "name": "python3"
  },
  "language_info": {
   "codemirror_mode": {
    "name": "ipython",
    "version": 3
   },
   "file_extension": ".py",
   "mimetype": "text/x-python",
   "name": "python",
   "nbconvert_exporter": "python",
   "pygments_lexer": "ipython3",
   "version": "3.11.2"
  },
  "orig_nbformat": 4
 },
 "nbformat": 4,
 "nbformat_minor": 2
}
