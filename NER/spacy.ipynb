{
 "cells": [
  {
   "cell_type": "code",
   "execution_count": 32,
   "metadata": {},
   "outputs": [],
   "source": [
    "import spacy\n",
    "import csv\n",
    "import pandas as pd\n",
    "import math\n",
    "from spacy.tokens import DocBin\n",
    "from spacy import displacy"
   ]
  },
  {
   "cell_type": "code",
   "execution_count": 33,
   "metadata": {},
   "outputs": [],
   "source": [
    "def find_largest_common_substring(str1, str2):\n",
    "    m = len(str1)\n",
    "    n = len(str2)\n",
    "\n",
    "    # Create a table to store the lengths of the common substrings\n",
    "    table = [[0] * (n + 1) for _ in range(m + 1)]\n",
    "\n",
    "    # Variables to store the length and ending position of the longest common substring\n",
    "    max_length = 0\n",
    "    end_position = 0\n",
    "\n",
    "    # Iterate through each character of str1 and str2\n",
    "    for i in range(1, m + 1):\n",
    "        for j in range(1, n + 1):\n",
    "            if str1[i - 1] == str2[j - 1]:\n",
    "                table[i][j] = table[i - 1][j - 1] + 1\n",
    "                if table[i][j] > max_length:\n",
    "                    max_length = table[i][j]\n",
    "                    end_position = i\n",
    "\n",
    "    # Extract the longest common substring\n",
    "    longest_common_substring = str1[end_position - max_length: end_position]\n",
    "\n",
    "    return longest_common_substring.strip()"
   ]
  },
  {
   "cell_type": "code",
   "execution_count": 34,
   "metadata": {},
   "outputs": [
    {
     "data": {
      "text/html": [
       "<div>\n",
       "<style scoped>\n",
       "    .dataframe tbody tr th:only-of-type {\n",
       "        vertical-align: middle;\n",
       "    }\n",
       "\n",
       "    .dataframe tbody tr th {\n",
       "        vertical-align: top;\n",
       "    }\n",
       "\n",
       "    .dataframe thead th {\n",
       "        text-align: right;\n",
       "    }\n",
       "</style>\n",
       "<table border=\"1\" class=\"dataframe\">\n",
       "  <thead>\n",
       "    <tr style=\"text-align: right;\">\n",
       "      <th></th>\n",
       "      <th>ID</th>\n",
       "      <th>Title</th>\n",
       "      <th>Brand</th>\n",
       "      <th>Model</th>\n",
       "    </tr>\n",
       "  </thead>\n",
       "  <tbody>\n",
       "    <tr>\n",
       "      <th>2035</th>\n",
       "      <td>2036</td>\n",
       "      <td>Samsung S1030 comes with a  1/1.8\" (~ 7.11 x 5...</td>\n",
       "      <td>Samsung</td>\n",
       "      <td>S1030</td>\n",
       "    </tr>\n",
       "    <tr>\n",
       "      <th>2045</th>\n",
       "      <td>2046</td>\n",
       "      <td>Samsung L77 comes with a  1/2.5\" (~ 5.75 x 4.3...</td>\n",
       "      <td>Samsung</td>\n",
       "      <td>L77</td>\n",
       "    </tr>\n",
       "    <tr>\n",
       "      <th>2785</th>\n",
       "      <td>2786</td>\n",
       "      <td>Casio QV-2100 comes with a  1/2.7\" (~ 5.33 x 4...</td>\n",
       "      <td>Casio</td>\n",
       "      <td>QV-2100</td>\n",
       "    </tr>\n",
       "    <tr>\n",
       "      <th>261</th>\n",
       "      <td>262</td>\n",
       "      <td>Canon  S60 comes with a  1/1.8\" (~ 7.11 x 5.33...</td>\n",
       "      <td>Canon</td>\n",
       "      <td>PowerShot S60</td>\n",
       "    </tr>\n",
       "    <tr>\n",
       "      <th>373</th>\n",
       "      <td>374</td>\n",
       "      <td>Fujifilm  S8200 comes with a  1/2.3\" (~ 6.16 x...</td>\n",
       "      <td>Fujifilm</td>\n",
       "      <td>FinePix S8200</td>\n",
       "    </tr>\n",
       "  </tbody>\n",
       "</table>\n",
       "</div>"
      ],
      "text/plain": [
       "        ID                                              Title     Brand  \\\n",
       "2035  2036  Samsung S1030 comes with a  1/1.8\" (~ 7.11 x 5...   Samsung   \n",
       "2045  2046  Samsung L77 comes with a  1/2.5\" (~ 5.75 x 4.3...   Samsung   \n",
       "2785  2786  Casio QV-2100 comes with a  1/2.7\" (~ 5.33 x 4...     Casio   \n",
       "261    262  Canon  S60 comes with a  1/1.8\" (~ 7.11 x 5.33...     Canon   \n",
       "373    374  Fujifilm  S8200 comes with a  1/2.3\" (~ 6.16 x...  Fujifilm   \n",
       "\n",
       "              Model  \n",
       "2035          S1030  \n",
       "2045            L77  \n",
       "2785        QV-2100  \n",
       "261   PowerShot S60  \n",
       "373   FinePix S8200  "
      ]
     },
     "execution_count": 34,
     "metadata": {},
     "output_type": "execute_result"
    }
   ],
   "source": [
    "df = pd.read_csv('2complete.csv')\n",
    "# specs_df = pd.read_csv('table_data_refrigerator.csv')\n",
    "df = df.sample(frac = 1)\n",
    "# train_df = df.sample(frac=0.6, random_state=200)\n",
    "# test_df = df.drop(train_df.index)\n",
    "# test_df\n",
    "df.head()"
   ]
  },
  {
   "cell_type": "code",
   "execution_count": 35,
   "metadata": {},
   "outputs": [],
   "source": [
    "import random\n",
    "\n",
    "def jumble_sentence(sentence):\n",
    "    first_space=sentence.find(' ')\n",
    "\n",
    "    before_comes=sentence.find('comes')\n",
    "\n",
    "    words=[]\n",
    "    words.append(sentence[:first_space])\n",
    "    words.append(sentence[first_space+1:before_comes])\n",
    "\n",
    "    words.extend(sentence[before_comes:].split())\n",
    "    random.shuffle(words)\n",
    "    jumbled_sentence = ' '.join(words)\n",
    "    return jumbled_sentence"
   ]
  },
  {
   "cell_type": "code",
   "execution_count": 36,
   "metadata": {},
   "outputs": [],
   "source": [
    "data=[]\n",
    "for ind in df.index:\n",
    "    id = df['ID'][ind]\n",
    "    title = df['Title'][ind]\n",
    "    jumb_title = jumble_sentence(title)\n",
    "    brand = df['Brand'][ind]\n",
    "    model = df['Model'][ind]\n",
    "    brand_start = jumb_title.find(brand)\n",
    "    x = find_largest_common_substring(model,jumb_title)\n",
    "    y= jumb_title.find(x)\n",
    "    data.append({'ID':id, 'Title': jumb_title, 'Brand': brand, 'Model': model, 'brand_start': brand_start, 'brand_end': brand_start + len(brand), 'model_start': y, 'model_end': y + len(x)})\n",
    "train = data[:math.floor(len(data)*0.6)]\n",
    "test = data[math.floor(len(data)*0.6):]"
   ]
  },
  {
   "cell_type": "code",
   "execution_count": 37,
   "metadata": {},
   "outputs": [],
   "source": [
    "# train_df = df.sample(frac=0.6, random_state=200)\n",
    "# test_df = df.drop(train_df.index)"
   ]
  },
  {
   "cell_type": "code",
   "execution_count": 38,
   "metadata": {},
   "outputs": [
    {
     "data": {
      "text/plain": [
       "{'text': '37.90 S1030  diagonal has Samsung of comes a mm (0.35\") and area which 5.33 a mm². mm) a x surface of CCD (~ sensor, 7.11 1/1.8\" with 8.89',\n",
       " 'entities': [(26, 33, 'BRAND'), (6, 11, 'MODEL')]}"
      ]
     },
     "execution_count": 38,
     "metadata": {},
     "output_type": "execute_result"
    }
   ],
   "source": [
    "training_data = {'classes':['BRAND', 'MODEL'], 'annotations':[]}\n",
    "for ex in train:\n",
    "    temp_dict = {}\n",
    "    temp_dict['text'] = ex['Title']\n",
    "    temp_dict['entities'] = []\n",
    "    temp_dict['entities'].append((ex['brand_start'], ex['brand_end'], 'BRAND'))\n",
    "    temp_dict['entities'].append((ex['model_start'], ex['model_end'], 'MODEL'))\n",
    "    training_data['annotations'].append(temp_dict)\n",
    "training_data['annotations'][0]"
   ]
  },
  {
   "cell_type": "code",
   "execution_count": 39,
   "metadata": {},
   "outputs": [
    {
     "name": "stdout",
     "output_type": "stream",
     "text": [
      "Skipping entity\n",
      "Skipping entity\n",
      "Skipping entity\n",
      "Skipping entity\n",
      "Skipping entity\n",
      "Skipping entity\n",
      "Skipping entity\n",
      "Skipping entity\n",
      "Skipping entity\n",
      "Skipping entity\n",
      "Skipping entity\n",
      "Skipping entity\n",
      "Skipping entity\n",
      "Skipping entity\n",
      "Skipping entity\n",
      "Skipping entity\n",
      "Skipping entity\n",
      "Skipping entity\n",
      "Skipping entity\n",
      "Skipping entity\n",
      "Skipping entity\n",
      "Skipping entity\n",
      "Skipping entity\n",
      "Skipping entity\n",
      "Skipping entity\n",
      "Skipping entity\n",
      "Skipping entity\n",
      "Skipping entity\n",
      "Skipping entity\n"
     ]
    }
   ],
   "source": [
    "nlp = spacy.blank('en')\n",
    "doc_bin = DocBin()\n",
    "\n",
    "for training_example  in (training_data['annotations']): \n",
    "    text = training_example['text']\n",
    "    labels = training_example['entities']\n",
    "    doc = nlp.make_doc(text) \n",
    "    ents = []\n",
    "    for start, end, label in labels:\n",
    "        span = doc.char_span(start, end, label=label, alignment_mode=\"contract\")\n",
    "        if span is None:\n",
    "            print(\"Skipping entity\")\n",
    "        else:\n",
    "            ents.append(span)\n",
    "    doc.ents = ents \n",
    "    doc_bin.add(doc)\n",
    "\n",
    "doc_bin.to_disk(\"training_data.spacy\") # save the docbin object"
   ]
  },
  {
   "cell_type": "code",
   "execution_count": 49,
   "metadata": {},
   "outputs": [
    {
     "name": "stdout",
     "output_type": "stream",
     "text": [
      "Fujifilm BRAND\n"
     ]
    },
    {
     "data": {
      "text/html": [
       "<span class=\"tex2jax_ignore\"><div class=\"entities\" style=\"line-height: 2.5; direction: ltr\">R7 from \n",
       "<mark class=\"entity\" style=\"background: #7DF6D9; padding: 0.45em 0.6em; margin: 0 0.25em; line-height: 1; border-radius: 0.35em;\">\n",
       "    Fujifilm\n",
       "    <span style=\"font-size: 0.8em; font-weight: bold; line-height: 1; border-radius: 0.35em; vertical-align: middle; margin-left: 0.5rem\">BRAND</span>\n",
       "</mark>\n",
       " comes with a </div></span>"
      ],
      "text/plain": [
       "<IPython.core.display.HTML object>"
      ]
     },
     "metadata": {},
     "output_type": "display_data"
    }
   ],
   "source": [
    "nlp_ner = spacy.load(\"model-best\")\n",
    "doc = nlp_ner('R7 from Fujifilm comes with a ')\n",
    "for ent in doc.ents:\n",
    "    print(ent.text, ent.label_)\n",
    "colors = {\"MODEL\": \"#F67DE3\", \"BRAND\": \"#7DF6D9\"}\n",
    "options = {\"colors\": colors} \n",
    "\n",
    "spacy.displacy.render(doc, style=\"ent\", options= options, jupyter=True)"
   ]
  }
 ],
 "metadata": {
  "kernelspec": {
   "display_name": "Python 3",
   "language": "python",
   "name": "python3"
  },
  "language_info": {
   "codemirror_mode": {
    "name": "ipython",
    "version": 3
   },
   "file_extension": ".py",
   "mimetype": "text/x-python",
   "name": "python",
   "nbconvert_exporter": "python",
   "pygments_lexer": "ipython3",
   "version": "3.8.10"
  },
  "orig_nbformat": 4
 },
 "nbformat": 4,
 "nbformat_minor": 2
}
