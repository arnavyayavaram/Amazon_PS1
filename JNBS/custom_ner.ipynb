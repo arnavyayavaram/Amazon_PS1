{
 "cells": [
  {
   "cell_type": "code",
   "execution_count": 1,
   "metadata": {},
   "outputs": [],
   "source": [
    "import spacy\n",
    "import csv\n",
    "import pandas as pd\n",
    "import math\n",
    "from spacy.tokens import DocBin"
   ]
  },
  {
   "cell_type": "code",
   "execution_count": 3,
   "metadata": {},
   "outputs": [],
   "source": [
    "df = pd.read_csv('title_refrigerator2.csv')\n",
    "# specs_df = pd.read_csv('table_data_refrigerator.csv')\n",
    "df = df.sample(frac = 1)\n",
    "# train_df = df.sample(frac=0.6, random_state=200)\n",
    "# test_df = df.drop(train_df.index)\n",
    "# test_df"
   ]
  },
  {
   "cell_type": "code",
   "execution_count": 4,
   "metadata": {},
   "outputs": [],
   "source": [
    "data=[]\n",
    "for ind in df.index:\n",
    "    id = df['ID'][ind]\n",
    "    title = df['Title'][ind]\n",
    "    brand = df['Brand'][ind]\n",
    "    model = df['Model'][ind]\n",
    "    brand_start = title.find(brand)\n",
    "    model_start = title.find(model)\n",
    "    data.append({'ID':id, 'Title': title, 'Brand': brand, 'Model': model, 'brand_start': brand_start, 'brand_end': brand_start + len(brand), 'model_start': model_start, 'model_end': model_start + len(model)})\n",
    "train = data[:math.floor(len(data)*0.6)]\n",
    "test = data[math.floor(len(data)*0.6):]"
   ]
  },
  {
   "cell_type": "code",
   "execution_count": 84,
   "metadata": {},
   "outputs": [],
   "source": [
    "# train_df = df.sample(frac=0.6, random_state=200)\n",
    "# test_df = df.drop(train_df.index)"
   ]
  },
  {
   "cell_type": "code",
   "execution_count": 5,
   "metadata": {},
   "outputs": [
    {
     "data": {
      "text/plain": [
       "{'text': 'Bosch 263 L Frost Free Double Door Top Mount 3 Star Refrigerator (CTC27S03EI)',\n",
       " 'entities': [(0, 5, 'BRAND'), (66, 76, 'MODEL')]}"
      ]
     },
     "execution_count": 5,
     "metadata": {},
     "output_type": "execute_result"
    }
   ],
   "source": [
    "training_data = {'classes':['BRAND', 'MODEL'], 'annotations':[]}\n",
    "for ex in train:\n",
    "    temp_dict = {}\n",
    "    temp_dict['text'] = ex['Title']\n",
    "    temp_dict['entities'] = []\n",
    "    temp_dict['entities'].append((ex['brand_start'], ex['brand_end'], 'BRAND'))\n",
    "    temp_dict['entities'].append((ex['model_start'], ex['model_end'], 'MODEL'))\n",
    "    training_data['annotations'].append(temp_dict)\n",
    "training_data['annotations'][0]"
   ]
  },
  {
   "cell_type": "code",
   "execution_count": 6,
   "metadata": {},
   "outputs": [],
   "source": [
    "nlp = spacy.blank('en')\n",
    "doc_bin = DocBin()\n",
    "\n",
    "for training_example  in (training_data['annotations']): \n",
    "    text = training_example['text']\n",
    "    labels = training_example['entities']\n",
    "    doc = nlp.make_doc(text) \n",
    "    ents = []\n",
    "    for start, end, label in labels:\n",
    "        span = doc.char_span(start, end, label=label, alignment_mode=\"contract\")\n",
    "        if span is None:\n",
    "            print(\"Skipping entity\")\n",
    "        else:\n",
    "            ents.append(span)\n",
    "    doc.ents = ents \n",
    "    doc_bin.add(doc)\n",
    "\n",
    "doc_bin.to_disk(\"training_data.spacy\") # save the docbin object"
   ]
  },
  {
   "cell_type": "code",
   "execution_count": 8,
   "metadata": {},
   "outputs": [
    {
     "ename": "OSError",
     "evalue": "[E050] Can't find model 'model-best'. It doesn't seem to be a Python package or a valid path to a data directory.",
     "output_type": "error",
     "traceback": [
      "\u001b[1;31m---------------------------------------------------------------------------\u001b[0m",
      "\u001b[1;31mOSError\u001b[0m                                   Traceback (most recent call last)",
      "Cell \u001b[1;32mIn[8], line 1\u001b[0m\n\u001b[1;32m----> 1\u001b[0m nlp_ner \u001b[39m=\u001b[39m spacy\u001b[39m.\u001b[39;49mload(\u001b[39m\"\u001b[39;49m\u001b[39mmodel-best\u001b[39;49m\u001b[39m\"\u001b[39;49m)\n\u001b[0;32m      3\u001b[0m \u001b[39m# doc = nlp_ner(\"MarQ by Flipkart 468 L Frost Free Side by Side Refrigerator (468ASMQS)\")\u001b[39;00m\n\u001b[0;32m      4\u001b[0m \u001b[39m# for ent in doc.ents:\u001b[39;00m\n\u001b[0;32m      5\u001b[0m \u001b[39m#     print(ent.text, ent.label_)\u001b[39;00m\n\u001b[1;32m   (...)\u001b[0m\n\u001b[0;32m      8\u001b[0m \n\u001b[0;32m      9\u001b[0m \u001b[39m# spacy.displacy.render(doc, style=\"ent\", options= options, jupyter=True)\u001b[39;00m\n\u001b[0;32m     10\u001b[0m correct_brand \u001b[39m=\u001b[39m \u001b[39m0\u001b[39m\n",
      "File \u001b[1;32m~\\AppData\\Local\\Packages\\PythonSoftwareFoundation.Python.3.8_qbz5n2kfra8p0\\LocalCache\\local-packages\\Python38\\site-packages\\spacy\\__init__.py:54\u001b[0m, in \u001b[0;36mload\u001b[1;34m(name, vocab, disable, enable, exclude, config)\u001b[0m\n\u001b[0;32m     30\u001b[0m \u001b[39mdef\u001b[39;00m \u001b[39mload\u001b[39m(\n\u001b[0;32m     31\u001b[0m     name: Union[\u001b[39mstr\u001b[39m, Path],\n\u001b[0;32m     32\u001b[0m     \u001b[39m*\u001b[39m,\n\u001b[1;32m   (...)\u001b[0m\n\u001b[0;32m     37\u001b[0m     config: Union[Dict[\u001b[39mstr\u001b[39m, Any], Config] \u001b[39m=\u001b[39m util\u001b[39m.\u001b[39mSimpleFrozenDict(),\n\u001b[0;32m     38\u001b[0m ) \u001b[39m-\u001b[39m\u001b[39m>\u001b[39m Language:\n\u001b[0;32m     39\u001b[0m \u001b[39m    \u001b[39m\u001b[39m\"\"\"Load a spaCy model from an installed package or a local path.\u001b[39;00m\n\u001b[0;32m     40\u001b[0m \n\u001b[0;32m     41\u001b[0m \u001b[39m    name (str): Package name or model path.\u001b[39;00m\n\u001b[1;32m   (...)\u001b[0m\n\u001b[0;32m     52\u001b[0m \u001b[39m    RETURNS (Language): The loaded nlp object.\u001b[39;00m\n\u001b[0;32m     53\u001b[0m \u001b[39m    \"\"\"\u001b[39;00m\n\u001b[1;32m---> 54\u001b[0m     \u001b[39mreturn\u001b[39;00m util\u001b[39m.\u001b[39;49mload_model(\n\u001b[0;32m     55\u001b[0m         name,\n\u001b[0;32m     56\u001b[0m         vocab\u001b[39m=\u001b[39;49mvocab,\n\u001b[0;32m     57\u001b[0m         disable\u001b[39m=\u001b[39;49mdisable,\n\u001b[0;32m     58\u001b[0m         enable\u001b[39m=\u001b[39;49menable,\n\u001b[0;32m     59\u001b[0m         exclude\u001b[39m=\u001b[39;49mexclude,\n\u001b[0;32m     60\u001b[0m         config\u001b[39m=\u001b[39;49mconfig,\n\u001b[0;32m     61\u001b[0m     )\n",
      "File \u001b[1;32m~\\AppData\\Local\\Packages\\PythonSoftwareFoundation.Python.3.8_qbz5n2kfra8p0\\LocalCache\\local-packages\\Python38\\site-packages\\spacy\\util.py:449\u001b[0m, in \u001b[0;36mload_model\u001b[1;34m(name, vocab, disable, enable, exclude, config)\u001b[0m\n\u001b[0;32m    447\u001b[0m \u001b[39mif\u001b[39;00m name \u001b[39min\u001b[39;00m OLD_MODEL_SHORTCUTS:\n\u001b[0;32m    448\u001b[0m     \u001b[39mraise\u001b[39;00m \u001b[39mIOError\u001b[39;00m(Errors\u001b[39m.\u001b[39mE941\u001b[39m.\u001b[39mformat(name\u001b[39m=\u001b[39mname, full\u001b[39m=\u001b[39mOLD_MODEL_SHORTCUTS[name]))  \u001b[39m# type: ignore[index]\u001b[39;00m\n\u001b[1;32m--> 449\u001b[0m \u001b[39mraise\u001b[39;00m \u001b[39mIOError\u001b[39;00m(Errors\u001b[39m.\u001b[39mE050\u001b[39m.\u001b[39mformat(name\u001b[39m=\u001b[39mname))\n",
      "\u001b[1;31mOSError\u001b[0m: [E050] Can't find model 'model-best'. It doesn't seem to be a Python package or a valid path to a data directory."
     ]
    }
   ],
   "source": [
    "\n",
    "nlp_ner = spacy.load(\"model-best\")\n",
    "\n",
    "# doc = nlp_ner(\"MarQ by Flipkart 468 L Frost Free Side by Side Refrigerator (468ASMQS)\")\n",
    "# for ent in doc.ents:\n",
    "#     print(ent.text, ent.label_)\n",
    "# colors = {\"MODEL\": \"#F67DE3\", \"BRAND\": \"#7DF6D9\"}\n",
    "# options = {\"colors\": colors} \n",
    "\n",
    "# spacy.displacy.render(doc, style=\"ent\", options= options, jupyter=True)\n",
    "correct_brand = 0\n",
    "incorrect_brand = 0\n",
    "correct_model = 0\n",
    "incorrect_model = 0\n",
    "for test_ex in test:\n",
    "    title = test_ex['Title']\n",
    "    brand = test_ex['Brand']\n",
    "    model = test_ex['Model']\n",
    "    doc = nlp_ner(title)\n",
    "    predicted_brand=''\n",
    "    predicted_model=''\n",
    "    for ent in doc.ents:\n",
    "        if(ent.label_ == 'BRAND'):\n",
    "            predicted_brand = ent.text\n",
    "        if(ent.label_ == 'MODEL'):\n",
    "            predicted_model = ent.text\n",
    "    if(predicted_brand == brand):\n",
    "        correct_brand += 1\n",
    "    else:\n",
    "        incorrect_brand += 1\n",
    "    \n",
    "    if(predicted_model == model):\n",
    "        correct_model += 1\n",
    "    else:\n",
    "        incorrect_model += 1\n",
    "print(correct_brand, incorrect_brand, correct_model, incorrect_model)"
   ]
  },
  {
   "cell_type": "code",
   "execution_count": 93,
   "metadata": {},
   "outputs": [
    {
     "name": "stdout",
     "output_type": "stream",
     "text": [
      "abc BRAND\n",
      "236 L 2 door Samsung MODEL\n"
     ]
    },
    {
     "data": {
      "text/html": [
       "<span class=\"tex2jax_ignore\"><div class=\"entities\" style=\"line-height: 2.5; direction: ltr\">\n",
       "<mark class=\"entity\" style=\"background: #7DF6D9; padding: 0.45em 0.6em; margin: 0 0.25em; line-height: 1; border-radius: 0.35em;\">\n",
       "    abc\n",
       "    <span style=\"font-size: 0.8em; font-weight: bold; line-height: 1; border-radius: 0.35em; vertical-align: middle; margin-left: 0.5rem\">BRAND</span>\n",
       "</mark>\n",
       " \n",
       "<mark class=\"entity\" style=\"background: #F67DE3; padding: 0.45em 0.6em; margin: 0 0.25em; line-height: 1; border-radius: 0.35em;\">\n",
       "    236 L 2 door Samsung\n",
       "    <span style=\"font-size: 0.8em; font-weight: bold; line-height: 1; border-radius: 0.35em; vertical-align: middle; margin-left: 0.5rem\">MODEL</span>\n",
       "</mark>\n",
       "</div></span>"
      ],
      "text/plain": [
       "<IPython.core.display.HTML object>"
      ]
     },
     "metadata": {},
     "output_type": "display_data"
    }
   ],
   "source": [
    "doc = nlp_ner(\"abc 236 L 2 door Samsung\")\n",
    "for ent in doc.ents:\n",
    "    print(ent.text, ent.label_)\n",
    "colors = {\"MODEL\": \"#F67DE3\", \"BRAND\": \"#7DF6D9\"}\n",
    "options = {\"colors\": colors} \n",
    "\n",
    "spacy.displacy.render(doc, style=\"ent\", options= options, jupyter=True)"
   ]
  }
 ],
 "metadata": {
  "kernelspec": {
   "display_name": "Python 3",
   "language": "python",
   "name": "python3"
  },
  "language_info": {
   "codemirror_mode": {
    "name": "ipython",
    "version": 3
   },
   "file_extension": ".py",
   "mimetype": "text/x-python",
   "name": "python",
   "nbconvert_exporter": "python",
   "pygments_lexer": "ipython3",
   "version": "3.8.10"
  },
  "orig_nbformat": 4
 },
 "nbformat": 4,
 "nbformat_minor": 2
}
