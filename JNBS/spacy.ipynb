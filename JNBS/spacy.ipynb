{
 "cells": [
  {
   "cell_type": "code",
   "execution_count": 1,
   "metadata": {},
   "outputs": [],
   "source": [
    "import spacy\n",
    "import csv\n",
    "import pandas as pd\n",
    "import math\n",
    "from spacy.tokens import DocBin\n",
    "from spacy import displacy"
   ]
  },
  {
   "cell_type": "code",
   "execution_count": 2,
   "metadata": {},
   "outputs": [],
   "source": [
    "def find_largest_common_substring(str1, str2):\n",
    "    m = len(str1)\n",
    "    n = len(str2)\n",
    "\n",
    "    # Create a table to store the lengths of the common substrings\n",
    "    table = [[0] * (n + 1) for _ in range(m + 1)]\n",
    "\n",
    "    # Variables to store the length and ending position of the longest common substring\n",
    "    max_length = 0\n",
    "    end_position = 0\n",
    "\n",
    "    # Iterate through each character of str1 and str2\n",
    "    for i in range(1, m + 1):\n",
    "        for j in range(1, n + 1):\n",
    "            if str1[i - 1] == str2[j - 1]:\n",
    "                table[i][j] = table[i - 1][j - 1] + 1\n",
    "                if table[i][j] > max_length:\n",
    "                    max_length = table[i][j]\n",
    "                    end_position = i\n",
    "\n",
    "    # Extract the longest common substring\n",
    "    longest_common_substring = str1[end_position - max_length: end_position]\n",
    "\n",
    "    return longest_common_substring.strip()"
   ]
  },
  {
   "cell_type": "code",
   "execution_count": 3,
   "metadata": {},
   "outputs": [
    {
     "data": {
      "text/html": [
       "<div>\n",
       "<style scoped>\n",
       "    .dataframe tbody tr th:only-of-type {\n",
       "        vertical-align: middle;\n",
       "    }\n",
       "\n",
       "    .dataframe tbody tr th {\n",
       "        vertical-align: top;\n",
       "    }\n",
       "\n",
       "    .dataframe thead th {\n",
       "        text-align: right;\n",
       "    }\n",
       "</style>\n",
       "<table border=\"1\" class=\"dataframe\">\n",
       "  <thead>\n",
       "    <tr style=\"text-align: right;\">\n",
       "      <th></th>\n",
       "      <th>ID</th>\n",
       "      <th>Title</th>\n",
       "      <th>Brand</th>\n",
       "      <th>Model</th>\n",
       "    </tr>\n",
       "  </thead>\n",
       "  <tbody>\n",
       "    <tr>\n",
       "      <th>3776</th>\n",
       "      <td>3777</td>\n",
       "      <td>Yakumo  410 comes with a  1/2.5\" (~ 5.75 x 4.3...</td>\n",
       "      <td>Yakumo</td>\n",
       "      <td>Mega Image 410</td>\n",
       "    </tr>\n",
       "    <tr>\n",
       "      <th>956</th>\n",
       "      <td>957</td>\n",
       "      <td>Nikon  L16 comes with a  1/2.5\" (~ 5.75 x 4.32...</td>\n",
       "      <td>Nikon</td>\n",
       "      <td>Coolpix L16</td>\n",
       "    </tr>\n",
       "    <tr>\n",
       "      <th>576</th>\n",
       "      <td>577</td>\n",
       "      <td>Fujifilm  J25 comes with a  1/2.3\" (~ 6.16 x 4...</td>\n",
       "      <td>Fujifilm</td>\n",
       "      <td>FinePix J25</td>\n",
       "    </tr>\n",
       "    <tr>\n",
       "      <th>567</th>\n",
       "      <td>568</td>\n",
       "      <td>Fujifilm  S1000fd comes with a  1/2.3\" (~ 6.16...</td>\n",
       "      <td>Fujifilm</td>\n",
       "      <td>FinePix S1000fd</td>\n",
       "    </tr>\n",
       "    <tr>\n",
       "      <th>1805</th>\n",
       "      <td>1806</td>\n",
       "      <td>Ricoh  GX100 comes with a  1/1.75\" (~ 7.31 x 5...</td>\n",
       "      <td>Ricoh</td>\n",
       "      <td>Caplio GX100</td>\n",
       "    </tr>\n",
       "  </tbody>\n",
       "</table>\n",
       "</div>"
      ],
      "text/plain": [
       "        ID                                              Title     Brand  \\\n",
       "3776  3777  Yakumo  410 comes with a  1/2.5\" (~ 5.75 x 4.3...    Yakumo   \n",
       "956    957  Nikon  L16 comes with a  1/2.5\" (~ 5.75 x 4.32...     Nikon   \n",
       "576    577  Fujifilm  J25 comes with a  1/2.3\" (~ 6.16 x 4...  Fujifilm   \n",
       "567    568  Fujifilm  S1000fd comes with a  1/2.3\" (~ 6.16...  Fujifilm   \n",
       "1805  1806  Ricoh  GX100 comes with a  1/1.75\" (~ 7.31 x 5...     Ricoh   \n",
       "\n",
       "                Model  \n",
       "3776   Mega Image 410  \n",
       "956       Coolpix L16  \n",
       "576       FinePix J25  \n",
       "567   FinePix S1000fd  \n",
       "1805     Caplio GX100  "
      ]
     },
     "execution_count": 3,
     "metadata": {},
     "output_type": "execute_result"
    }
   ],
   "source": [
    "df = pd.read_csv('2complete.csv')\n",
    "# specs_df = pd.read_csv('table_data_refrigerator.csv')\n",
    "df = df.sample(frac = 1)\n",
    "# train_df = df.sample(frac=0.6, random_state=200)\n",
    "# test_df = df.drop(train_df.index)\n",
    "# test_df\n",
    "df.head()"
   ]
  },
  {
   "cell_type": "code",
   "execution_count": 4,
   "metadata": {},
   "outputs": [],
   "source": [
    "data=[]\n",
    "for ind in df.index:\n",
    "    id = df['ID'][ind]\n",
    "    title = df['Title'][ind]\n",
    "    brand = df['Brand'][ind]\n",
    "    model = df['Model'][ind]\n",
    "    brand_start = title.find(brand)\n",
    "    x = find_largest_common_substring(model,title)\n",
    "    y= title.find(x)\n",
    "    data.append({'ID':id, 'Title': title, 'Brand': brand, 'Model': model, 'brand_start': brand_start, 'brand_end': brand_start + len(brand), 'model_start': y, 'model_end': y + len(x)})\n",
    "train = data[:math.floor(len(data)*0.6)]\n",
    "test = data[math.floor(len(data)*0.6):]"
   ]
  },
  {
   "cell_type": "code",
   "execution_count": 5,
   "metadata": {},
   "outputs": [],
   "source": [
    "# train_df = df.sample(frac=0.6, random_state=200)\n",
    "# test_df = df.drop(train_df.index)"
   ]
  },
  {
   "cell_type": "code",
   "execution_count": 6,
   "metadata": {},
   "outputs": [
    {
     "data": {
      "text/plain": [
       "{'text': 'Yakumo  410 comes with a  1/2.5\" (~ 5.75 x 4.32 mm) CCD sensor, which has a diagonal of  7.19 mm (0.28\") and a surface area of 24.84 mm².',\n",
       " 'entities': [(0, 6, 'BRAND'), (8, 11, 'MODEL')]}"
      ]
     },
     "execution_count": 6,
     "metadata": {},
     "output_type": "execute_result"
    }
   ],
   "source": [
    "training_data = {'classes':['BRAND', 'MODEL'], 'annotations':[]}\n",
    "for ex in train:\n",
    "    temp_dict = {}\n",
    "    temp_dict['text'] = ex['Title']\n",
    "    temp_dict['entities'] = []\n",
    "    temp_dict['entities'].append((ex['brand_start'], ex['brand_end'], 'BRAND'))\n",
    "    temp_dict['entities'].append((ex['model_start'], ex['model_end'], 'MODEL'))\n",
    "    training_data['annotations'].append(temp_dict)\n",
    "training_data['annotations'][0]"
   ]
  },
  {
   "cell_type": "code",
   "execution_count": 7,
   "metadata": {},
   "outputs": [
    {
     "name": "stdout",
     "output_type": "stream",
     "text": [
      "Skipping entity\n",
      "Skipping entity\n",
      "Skipping entity\n",
      "Skipping entity\n",
      "Skipping entity\n",
      "Skipping entity\n",
      "Skipping entity\n",
      "Skipping entity\n",
      "Skipping entity\n",
      "Skipping entity\n",
      "Skipping entity\n",
      "Skipping entity\n",
      "Skipping entity\n",
      "Skipping entity\n",
      "Skipping entity\n",
      "Skipping entity\n",
      "Skipping entity\n",
      "Skipping entity\n",
      "Skipping entity\n",
      "Skipping entity\n",
      "Skipping entity\n",
      "Skipping entity\n",
      "Skipping entity\n",
      "Skipping entity\n",
      "Skipping entity\n",
      "Skipping entity\n",
      "Skipping entity\n",
      "Skipping entity\n",
      "Skipping entity\n",
      "Skipping entity\n",
      "Skipping entity\n"
     ]
    }
   ],
   "source": [
    "nlp = spacy.blank('en')\n",
    "doc_bin = DocBin()\n",
    "\n",
    "for training_example  in (training_data['annotations']): \n",
    "    text = training_example['text']\n",
    "    labels = training_example['entities']\n",
    "    doc = nlp.make_doc(text) \n",
    "    ents = []\n",
    "    for start, end, label in labels:\n",
    "        span = doc.char_span(start, end, label=label, alignment_mode=\"contract\")\n",
    "        if span is None:\n",
    "            print(\"Skipping entity\")\n",
    "        else:\n",
    "            ents.append(span)\n",
    "    doc.ents = ents \n",
    "    doc_bin.add(doc)\n",
    "\n",
    "doc_bin.to_disk(\"training_data.spacy\") # save the docbin object"
   ]
  },
  {
   "cell_type": "code",
   "execution_count": 21,
   "metadata": {},
   "outputs": [
    {
     "name": "stdout",
     "output_type": "stream",
     "text": [
      "Along BRAND\n",
      "Nikon BRAND\n",
      "E3s which has a diagonal of 11.00 mm. MODEL\n"
     ]
    },
    {
     "data": {
      "text/html": [
       "<span class=\"tex2jax_ignore\"><div class=\"entities\" style=\"line-height: 2.5; direction: ltr\">\n",
       "<mark class=\"entity\" style=\"background: #7DF6D9; padding: 0.45em 0.6em; margin: 0 0.25em; line-height: 1; border-radius: 0.35em;\">\n",
       "    Along\n",
       "    <span style=\"font-size: 0.8em; font-weight: bold; line-height: 1; border-radius: 0.35em; vertical-align: middle; margin-left: 0.5rem\">BRAND</span>\n",
       "</mark>\n",
       " with a 2/3&quot;&quot; (~ 8.8 x 6.6 mm) CCD sensor,the \n",
       "<mark class=\"entity\" style=\"background: #7DF6D9; padding: 0.45em 0.6em; margin: 0 0.25em; line-height: 1; border-radius: 0.35em;\">\n",
       "    Nikon\n",
       "    <span style=\"font-size: 0.8em; font-weight: bold; line-height: 1; border-radius: 0.35em; vertical-align: middle; margin-left: 0.5rem\">BRAND</span>\n",
       "</mark>\n",
       " \n",
       "<mark class=\"entity\" style=\"background: #F67DE3; padding: 0.45em 0.6em; margin: 0 0.25em; line-height: 1; border-radius: 0.35em;\">\n",
       "    E3s which has a diagonal of 11.00 mm.\n",
       "    <span style=\"font-size: 0.8em; font-weight: bold; line-height: 1; border-radius: 0.35em; vertical-align: middle; margin-left: 0.5rem\">MODEL</span>\n",
       "</mark>\n",
       "</div></span>"
      ],
      "text/plain": [
       "<IPython.core.display.HTML object>"
      ]
     },
     "metadata": {},
     "output_type": "display_data"
    }
   ],
   "source": [
    "nlp_ner = spacy.load(\"model-best\")\n",
    "doc = nlp_ner('Along with a 2/3\"\" (~ 8.8 x 6.6 mm) CCD sensor,the Nikon E3s which has a diagonal of 11.00 mm.')\n",
    "for ent in doc.ents:\n",
    "    print(ent.text, ent.label_)\n",
    "colors = {\"MODEL\": \"#F67DE3\", \"BRAND\": \"#7DF6D9\"}\n",
    "options = {\"colors\": colors} \n",
    "\n",
    "spacy.displacy.render(doc, style=\"ent\", options= options, jupyter=True)"
   ]
  },
  {
   "cell_type": "code",
   "execution_count": null,
   "metadata": {},
   "outputs": [],
   "source": []
  }
 ],
 "metadata": {
  "kernelspec": {
   "display_name": "Python 3",
   "language": "python",
   "name": "python3"
  },
  "language_info": {
   "codemirror_mode": {
    "name": "ipython",
    "version": 3
   },
   "file_extension": ".py",
   "mimetype": "text/x-python",
   "name": "python",
   "nbconvert_exporter": "python",
   "pygments_lexer": "ipython3",
   "version": "3.8.10"
  },
  "orig_nbformat": 4
 },
 "nbformat": 4,
 "nbformat_minor": 2
}
