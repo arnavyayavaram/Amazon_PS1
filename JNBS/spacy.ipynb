{
 "cells": [
  {
   "cell_type": "code",
   "execution_count": 5,
   "metadata": {},
   "outputs": [],
   "source": [
    "import spacy\n",
    "import csv\n",
    "import pandas as pd\n",
    "import math\n",
    "from spacy.tokens import DocBin\n",
    "from spacy import displacy"
   ]
  },
  {
   "cell_type": "code",
   "execution_count": null,
   "metadata": {},
   "outputs": [],
   "source": [
    "df = pd.read_csv('2complete.csv')\n",
    "# specs_df = pd.read_csv('table_data_refrigerator.csv')\n",
    "df = df.sample(frac = 1)\n",
    "# train_df = df.sample(frac=0.6, random_state=200)\n",
    "# test_df = df.drop(train_df.index)\n",
    "# test_df"
   ]
  },
  {
   "cell_type": "code",
   "execution_count": null,
   "metadata": {},
   "outputs": [],
   "source": [
    "data=[]\n",
    "for ind in df.index:\n",
    "    id = df['ID'][ind]\n",
    "    title = df['Title'][ind]\n",
    "    brand = df['Brand'][ind]\n",
    "    model = df['Model'][ind]\n",
    "    brand_start = title.find(brand)\n",
    "    model_start = title.find(model)\n",
    "    data.append({'ID':id, 'Title': title, 'Brand': brand, 'Model': model, 'brand_start': brand_start, 'brand_end': brand_start + len(brand), 'model_start': model_start, 'model_end': model_start + len(model)})\n",
    "train = data[:math.floor(len(data)*0.6)]\n",
    "test = data[math.floor(len(data)*0.6):]"
   ]
  },
  {
   "cell_type": "code",
   "execution_count": null,
   "metadata": {},
   "outputs": [],
   "source": [
    "# train_df = df.sample(frac=0.6, random_state=200)\n",
    "# test_df = df.drop(train_df.index)"
   ]
  },
  {
   "cell_type": "code",
   "execution_count": null,
   "metadata": {},
   "outputs": [],
   "source": [
    "training_data = {'classes':['BRAND', 'MODEL'], 'annotations':[]}\n",
    "for ex in train:\n",
    "    temp_dict = {}\n",
    "    temp_dict['text'] = ex['Title']\n",
    "    temp_dict['entities'] = []\n",
    "    temp_dict['entities'].append((ex['brand_start'], ex['brand_end'], 'BRAND'))\n",
    "    temp_dict['entities'].append((ex['model_start'], ex['model_end'], 'MODEL'))\n",
    "    training_data['annotations'].append(temp_dict)\n",
    "training_data['annotations'][0]"
   ]
  },
  {
   "cell_type": "code",
   "execution_count": null,
   "metadata": {},
   "outputs": [],
   "source": [
    "nlp = spacy.blank('en')\n",
    "doc_bin = DocBin()\n",
    "\n",
    "for training_example  in (training_data['annotations']): \n",
    "    text = training_example['text']\n",
    "    labels = training_example['entities']\n",
    "    doc = nlp.make_doc(text) \n",
    "    ents = []\n",
    "    for start, end, label in labels:\n",
    "        span = doc.char_span(start, end, label=label, alignment_mode=\"contract\")\n",
    "        if span is None:\n",
    "            print(\"Skipping entity\")\n",
    "        else:\n",
    "            ents.append(span)\n",
    "    doc.ents = ents \n",
    "    doc_bin.add(doc)\n",
    "\n",
    "doc_bin.to_disk(\"training_data.spacy\") # save the docbin object"
   ]
  },
  {
   "cell_type": "code",
   "execution_count": null,
   "metadata": {},
   "outputs": [],
   "source": [
    "nlp_ner = spacy.load(\"model-best\")\n",
    "\n",
    "# doc = nlp_ner(\"MarQ by Flipkart 468 L Frost Free Side by Side Refrigerator (468ASMQS)\")\n",
    "# for ent in doc.ents:\n",
    "#     print(ent.text, ent.label_)\n",
    "# colors = {\"MODEL\": \"#F67DE3\", \"BRAND\": \"#7DF6D9\"}\n",
    "# options = {\"colors\": colors} \n",
    "\n",
    "# spacy.displacy.render(doc, style=\"ent\", options= options, jupyter=True)\n",
    "correct_brand = 0\n",
    "incorrect_brand = 0\n",
    "correct_model = 0\n",
    "incorrect_model = 0\n",
    "for test_ex in test:\n",
    "    title = test_ex['Title']\n",
    "    brand = test_ex['Brand']\n",
    "    model = test_ex['Model']\n",
    "    doc = nlp_ner(title)\n",
    "    predicted_brand=''\n",
    "    predicted_model=''\n",
    "    for ent in doc.ents:\n",
    "        if(ent.label_ == 'BRAND'):\n",
    "            predicted_brand = ent.text\n",
    "        if(ent.label_ == 'MODEL'):\n",
    "            predicted_model = ent.text\n",
    "    if(predicted_brand == brand):\n",
    "        correct_brand += 1\n",
    "    else:\n",
    "        incorrect_brand += 1\n",
    "    \n",
    "    if(predicted_model == model):\n",
    "        correct_model += 1\n",
    "    else:\n",
    "        incorrect_model += 1\n",
    "print(correct_brand, incorrect_brand, correct_model, incorrect_model)"
   ]
  },
  {
   "cell_type": "code",
   "execution_count": null,
   "metadata": {},
   "outputs": [],
   "source": [
    "doc = nlp_ner(\"abc 236 L 2 door Samsung\")\n",
    "for ent in doc.ents:\n",
    "    print(ent.text, ent.label_)\n",
    "colors = {\"MODEL\": \"#F67DE3\", \"BRAND\": \"#7DF6D9\"}\n",
    "options = {\"colors\": colors} \n",
    "\n",
    "spacy.displacy.render(doc, style=\"ent\", options= options, jupyter=True)"
   ]
  }
 ],
 "metadata": {
  "kernelspec": {
   "display_name": "Python 3",
   "language": "python",
   "name": "python3"
  },
  "language_info": {
   "codemirror_mode": {
    "name": "ipython",
    "version": 3
   },
   "file_extension": ".py",
   "mimetype": "text/x-python",
   "name": "python",
   "nbconvert_exporter": "python",
   "pygments_lexer": "ipython3",
   "version": "3.8.10"
  },
  "orig_nbformat": 4
 },
 "nbformat": 4,
 "nbformat_minor": 2
}
